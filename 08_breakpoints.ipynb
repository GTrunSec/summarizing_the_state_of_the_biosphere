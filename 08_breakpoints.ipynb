{
 "cells": [
  {
   "cell_type": "markdown",
   "metadata": {},
   "source": [
    "# Breakpoints"
   ]
  },
  {
   "cell_type": "code",
   "execution_count": null,
   "metadata": {},
   "outputs": [],
   "source": [
    "include(\"stuff.jl\")"
   ]
  },
  {
   "cell_type": "code",
   "execution_count": null,
   "metadata": {},
   "outputs": [],
   "source": [
    "cube_break_points = loadCube(joinpath(cubes_base_dir, \"cube_break_points\"))\n",
    "cube_pca_online = loadCube(joinpath(cubes_base_dir, \"cube_pca_online\"))\n",
    "cube_base_clean = loadCube(joinpath(cubes_base_dir, \"cube_base_clean\"))\n",
    "cube_base = getCubeData(Cube(data_cube_dir), variable = vars, time = (Date(\"2001-01-01\"), Date(\"2011-12-31\")))"
   ]
  },
  {
   "cell_type": "code",
   "execution_count": null,
   "metadata": {},
   "outputs": [],
   "source": [
    "plotMAP(cube_base_clean)"
   ]
  },
  {
   "cell_type": "code",
   "execution_count": null,
   "metadata": {},
   "outputs": [],
   "source": [
    "showVarInfo(cube_base)"
   ]
  },
  {
   "cell_type": "code",
   "execution_count": null,
   "metadata": {},
   "outputs": [],
   "source": [
    "plotMAP(cube_pca_online)"
   ]
  },
  {
   "cell_type": "code",
   "execution_count": null,
   "metadata": {},
   "outputs": [],
   "source": [
    "lat_ax = getAxis(LatAxis,  cube_break_points)\n",
    "lon_ax = getAxis(LonAxis,  cube_break_points)\n",
    "t_ax   = getAxis(TimeAxis, cube_pca_online)"
   ]
  },
  {
   "cell_type": "code",
   "execution_count": null,
   "metadata": {},
   "outputs": [],
   "source": [
    "R\"\"\"\n",
    "library(viridis)\n",
    "\"\"\""
   ]
  },
  {
   "cell_type": "code",
   "execution_count": null,
   "metadata": {},
   "outputs": [],
   "source": [
    "R\"\"\"\n",
    "data(coastsCoarse, package = \"rworldmap\")\n",
    "\n",
    "from_to <- 120:670\n",
    "#from_to <- 1:720\n",
    "\n",
    "elem_col = \"black\" # \"gray50\"\n",
    "\n",
    "lat_ax <- $(lat_ax.values |> reverse |> collect)[from_to]\n",
    "lon_ax <- $(lon_ax.values |> collect)\n",
    "t_ax   <- $(t_ax.values |> collect)\n",
    "\n",
    "bp_data_pc1 <- $(\n",
    "    cube_break_points[1,:,:] |> \n",
    "    x -> convert(Matrix{Union{Float64, Missing}}, x) |> \n",
    "    x -> x[:, end:-1:1]\n",
    ")[,from_to]\n",
    "\n",
    "bp_data_pc2 <- $(\n",
    "    cube_break_points[2,:,:] |> \n",
    "    x -> convert(Matrix{Union{Float64, Missing}}, x) |> \n",
    "    x -> x[:, end:-1:1]\n",
    ")[,from_to]\n",
    "\n",
    "bp_data_pc3 <- $(\n",
    "    cube_break_points[3,:,:] |> \n",
    "    x -> convert(Matrix{Union{Float64, Missing}}, x) |> \n",
    "    x -> x[:, end:-1:1]\n",
    ")[,from_to]\n",
    "\n",
    "\n",
    "n_lv1 <- length(na.exclude(unique(as.vector(c(bp_data_pc1)))))\n",
    "n_lv2 <- length(na.exclude(unique(as.vector(c(bp_data_pc2)))))\n",
    "n_lv3 <- length(na.exclude(unique(as.vector(c(bp_data_pc3)))))\n",
    "max_n_lv <- max(n_lv1, n_lv2, n_lv3)\n",
    "\n",
    "#col_pal <- brewer.pal(max(n_lv1, n_lv2), \"Blues\")\n",
    "col_pal <- c(\"grey95\", rev(viridis(length(t_ax))))\n",
    "#col_pal <- c(rev(viridis(length(t_ax) + 1 )))\n",
    "\n",
    "########################\n",
    "pdf($(joinpath(fig_path, \"n_bp_pc1_pc2.pdf\")), width = 12, height = 12 * length(from_to) / 720 * 3/2)\n",
    "\n",
    "layout(matrix(1:3, nrow = 3))\n",
    "\n",
    "par(mar = c(0, 0, 0, 0))\n",
    "\n",
    "image(\n",
    "    lon_ax, lat_ax,\n",
    "    bp_data_pc1,\n",
    "    col = col_pal[seq_len(n_lv1)],\n",
    "    axes = FALSE,\n",
    "    xlab = NA, ylab = NA,\n",
    "    useRaster = TRUE\n",
    ")\n",
    "plot(coastsCoarse, add = TRUE)\n",
    "\n",
    "image(\n",
    "    lon_ax, lat_ax,\n",
    "    bp_data_pc2,\n",
    "    col = col_pal[seq_len(n_lv2)],\n",
    "    axes = FALSE,\n",
    "    xlab = NA, ylab = NA,\n",
    "    useRaster = TRUE\n",
    ")\n",
    "plot(coastsCoarse, add = TRUE)\n",
    "\n",
    "image(\n",
    "    lon_ax, lat_ax,\n",
    "    bp_data_pc3,\n",
    "    col = col_pal[seq_len(n_lv3)],\n",
    "    axes = FALSE,\n",
    "    xlab = NA, ylab = NA,\n",
    "    useRaster = TRUE\n",
    ")\n",
    "plot(coastsCoarse, add = TRUE)\n",
    "\n",
    "par(fig = c(0.09, 0.11, 0.01, 0.25), new = TRUE, xpd = NA)\n",
    "image(\n",
    "    1:2, \n",
    "    seq_len(max_n_lv) - 1, \n",
    "    t(1:max_n_lv), \n",
    "    col = col_pal,\n",
    "    cex.lab = 1.5,\n",
    "    col.lab = elem_col,\n",
    "    ylab = \"year\",\n",
    "    axes = FALSE, \n",
    "    bty = \"n\",\n",
    "    useRaster = TRUE,\n",
    "    mgp = c(4.1, 1, 0)    \n",
    ")\n",
    "#box(col = elem_col)\n",
    "\n",
    "# this is just to clean the axis scales so that we can plot a nice x axis\n",
    "par(new = TRUE)\n",
    "plot(seq_along(t_ax), t_ax, type = \"n\", bty = \"n\", axes = FALSE, xlab = NA, ylab = NA, yaxs = \"i\")\n",
    "axis.Date(2, t_ax, col = elem_col, col.axis = elem_col, las = 1, cex.axis = 1.5)\n",
    "\n",
    "#axis(2, las = 1, col = elem_col, col.axis = elem_col)\n",
    "\n",
    "grid.text(\"(a)\", 0,   1, just = c(0, 1), gp = gpar(cex = 2))\n",
    "grid.text(\"(b)\", 0, 2/3, just = c(0, 1), gp = gpar(cex = 2))\n",
    "grid.text(\"(c)\", 0, 1/3, just = c(0, 1), gp = gpar(cex = 2))\n",
    "\n",
    "dev.off()\n",
    "\"\"\"\n",
    "\n",
    "show_pdf(\n",
    "    \"http://127.0.0.1:8333/files/results/fig/n_bp_pc1_pc2.pdf\",\n",
    "    width = 700,\n",
    "    height = 700\n",
    ")"
   ]
  },
  {
   "cell_type": "code",
   "execution_count": null,
   "metadata": {},
   "outputs": [],
   "source": [
    "plot(\n",
    "    ntuple(\n",
    "        i -> cube_n_break_points[i, :, :] |> \n",
    "            x -> convert(Array, x) |> \n",
    "            missing_to_nan |> \n",
    "            rotl90 |> \n",
    "            x -> heatmap(x, title = \"# of bp in PC $i\"), \n",
    "        size(cube_n_break_points)[1]\n",
    "    )..., \n",
    "    fmt = :png,\n",
    "    layout = (6, 2),\n",
    "    size = (1500, 2500)\n",
    ")"
   ]
  },
  {
   "cell_type": "code",
   "execution_count": null,
   "metadata": {},
   "outputs": [],
   "source": []
  }
 ],
 "metadata": {
  "@webio": {
   "lastCommId": "913c174aa1254e109c0d0877ef44f558",
   "lastKernelId": "d61f5041-b416-4d58-a0d5-1d7c58337b5f"
  },
  "kernelspec": {
   "display_name": "Julia 1.1.0-bin atacama",
   "language": "julia",
   "name": "julia-1.1.0-atacama"
  },
  "language_info": {
   "file_extension": ".jl",
   "mimetype": "application/julia",
   "name": "julia",
   "version": "1.1.0"
  }
 },
 "nbformat": 4,
 "nbformat_minor": 2
}
