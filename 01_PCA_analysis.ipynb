{
 "cells": [
  {
   "cell_type": "markdown",
   "metadata": {},
   "source": [
    "# PCA method analysis"
   ]
  },
  {
   "cell_type": "code",
   "execution_count": null,
   "metadata": {},
   "outputs": [],
   "source": [
    "include(\"stuff.jl\")"
   ]
  },
  {
   "cell_type": "code",
   "execution_count": null,
   "metadata": {},
   "outputs": [],
   "source": [
    "cube_z_trans = load(joinpath(cubes_base_dir, \"z_trans_pca.jld2\"), \"z_trans\")\n",
    "cube_pca = load(joinpath(cubes_base_dir, \"z_trans_pca.jld2\"), \"pca\")\n",
    "cube_pca_online = loadCube(joinpath(cubes_base_dir, \"cube_pca_online\"))\n",
    "pca_no_msc_cube = loadCube(joinpath(cubes_base_dir, \"pca_no_msc_cube\"))\n",
    "pca_msc_cube = loadCube(joinpath(cubes_base_dir, \"pca_msc_cube\"))\n"
   ]
  },
  {
   "cell_type": "code",
   "execution_count": null,
   "metadata": {},
   "outputs": [],
   "source": [
    "cube_base = getCubeData(Cube(data_cube_dir), variable = vars, time = (Date(\"2001-01-01\"), Date(\"2011-12-31\")))"
   ]
  },
  {
   "cell_type": "code",
   "execution_count": null,
   "metadata": {},
   "outputs": [],
   "source": [
    "cumulative_explained_variance = cumsum(cube_pca.prinvars ./ cube_pca.tprinvar)\n",
    "expl_variance = cube_pca.prinvars ./ cube_pca.tprinvar\n"
   ]
  },
  {
   "cell_type": "code",
   "execution_count": null,
   "metadata": {},
   "outputs": [],
   "source": [
    "cumulative_explained_variance"
   ]
  },
  {
   "cell_type": "code",
   "execution_count": null,
   "metadata": {},
   "outputs": [],
   "source": [
    "plot(\n",
    "    0:length(cumulative_explained_variance),\n",
    "    [0; cumulative_explained_variance], \n",
    "    fmt = :png,\n",
    "    ylab = \"Cumulative Explained Variance\"\n",
    ")\n",
    "scatter!(\n",
    "    0:length(cumulative_explained_variance),\n",
    "    [0; cumulative_explained_variance],\n",
    "    label = \"\"\n",
    ")"
   ]
  },
  {
   "cell_type": "code",
   "execution_count": null,
   "metadata": {},
   "outputs": [],
   "source": [
    "R\"\"\"\n",
    "ev <- $expl_variance\n",
    "\n",
    "par(mar = c(4, 4, 0, 0) + 0.1)\n",
    "plot(seq_along(ev), ev, type = \"c\", ylab = \"explained fraction of variance\", xlab = \"PC\", bty = \"n\")\n",
    "text(seq_along(ev), ev, sprintf(\"%.2f\", ev))\n",
    "#abline(h = 0.05)\n",
    "\"\"\""
   ]
  },
  {
   "cell_type": "code",
   "execution_count": null,
   "metadata": {},
   "outputs": [],
   "source": [
    "R\"\"\"\n",
    "par(mar = c(4, 4, 0, 0) + 0.1)\n",
    "cev <- c(0, $cumulative_explained_variance)\n",
    "cpc <- seq_along(cev) - 1\n",
    "plot(cpc, cev, type = \"c\", \n",
    "     xlab = \"cumulative principal components\", \n",
    "     ylab = \"cumulative explained variance\",\n",
    "     pch = as.character(seq_along(cev) - 1),\n",
    "     bty = \"n\")\n",
    "text(cpc, cev, sprintf(\"%0.2f\", cev))\n",
    "\"\"\""
   ]
  },
  {
   "cell_type": "code",
   "execution_count": null,
   "metadata": {},
   "outputs": [],
   "source": [
    "pca_rotation_matrix = cube_pca |> projection"
   ]
  },
  {
   "cell_type": "code",
   "execution_count": null,
   "metadata": {},
   "outputs": [],
   "source": [
    "R\"\"\"\n",
    "rot <- $(rotr90(pca_rotation_matrix))\n",
    "vars <- $(vars)\n",
    "n <- dim(rot)[1]\n",
    "ll <- c(-1, 1) # this line makes the color bar much nicer!!\n",
    "\n",
    "pal <- brewer.pal(11, \"RdBu\")\n",
    "pal <- colorRampPalette(colors = pal)(100)\n",
    "\n",
    "options(device = function(filename=getOption('rcalljl_filename'),...) png(filename, width = 700, height = 500, ...))\n",
    "\n",
    "layout(matrix(1:2, ncol = 2), widths = c(1, 0.15))\n",
    "par(mar = c(4, 14, 2, 0) + 0.1)\n",
    "\n",
    "image(rot, axes = FALSE, main = \"Rotation Matrix\", zlim = ll, col = pal, xlab = \"PCA\")\n",
    "axis(1, at = seq(0, 1, length.out = n), labels = seq(n), las = 1, cex.axis = 0.9)\n",
    "axis(2, at = seq(0, 1, length.out = n), labels = rev(vars), las = 2, cex.axis = 1)\n",
    "\n",
    "par(mar = c(4, 1, 2, 0) + 2.1)\n",
    "\n",
    "image(x = 1, y = seq(ll[1], ll[2], length.out = length(pal)),\n",
    "      z = matrix(seq(ll[1], ll[2], length.out = length(pal)), nrow = 1), \n",
    "      col = pal, xaxt = \"n\", xlab = NA, xaxs = \"r\", ylab = NA, las = 2)\n",
    "\"\"\";"
   ]
  },
  {
   "cell_type": "code",
   "execution_count": null,
   "metadata": {},
   "outputs": [],
   "source": [
    "R\"\"\"\n",
    "pdf($(joinpath(fig_path, \"pca.pdf\")), width = 8.5, height = 4)\n",
    "wdth <- c(0.8, 1/1.15, 0.13/1.15)\n",
    "layout(t(1:3), widths = wdth)\n",
    "\n",
    "ev <- $expl_variance\n",
    "ev2 <- ev[1:10]\n",
    "\n",
    "par(mar = c(4, 4.2, 0, 0) + 0.1)\n",
    "plot(seq_along(ev2), ev2, xlim = c(1, length(ev)), \n",
    "           type = \"b\", ylab = \"Explained Fraction of Variance\", xlab = \"PC\", \n",
    "           bty = \"n\", las = 1, pch = 16, cex.lab = 1.6)\n",
    "text(seq_along(ev2), ev2, sprintf(\"%.2f\", ev2), adj = c(-0.2, -0.1))\n",
    "grid.text(\"(a)\", x = unit(0, \"npc\"), y = unit(1, \"npc\"),\n",
    "          just = c(\"left\", \"top\"))\n",
    "\n",
    "#abline(h = 0.05)\n",
    "\n",
    "rot <- $(rotr90(pca_rotation_matrix))\n",
    "vars <- c(\n",
    "    \"Black Sky Albedo\",\n",
    "    \"Evaporation\",\n",
    "    \"Evaporative Stress\",\n",
    "    \"FAPAR\",\n",
    "    \"GPP\",\n",
    "    \"LE\",\n",
    "    \"NEE\",\n",
    "    \"Root Moisture\",\n",
    "    \"Sensible Heat\",\n",
    "    \"Surface Moisture\",\n",
    "    \"Ecosystem Respiration\",\n",
    "    \"White Sky Albedo\"\n",
    ")\n",
    "\n",
    "clamp <- function(x, lims) {\n",
    "    lo <- lims[1]\n",
    "    hi <- lims[2]\n",
    "    res <- x\n",
    "    res[res < lo] <- lo\n",
    "    res[res > hi] <- hi\n",
    "    return(res)\n",
    "}\n",
    "\n",
    "#vars <- $(vars)\n",
    "n <- dim(rot)[1]\n",
    "max_load <- max(abs(range(rot)))\n",
    "print(max_load)\n",
    "ll <- c(-max_load, max_load) # this line makes the color bar much nicer!!\n",
    "\n",
    "pal <- brewer.pal(11, \"RdBu\")\n",
    "pal <- colorRampPalette(colors = pal)(100)\n",
    "\n",
    "par(mar = c(4, 5, 0, 0) + 0.1)\n",
    "\n",
    "image(clamp(rot, ll), axes = FALSE, zlim = ll, col = pal, xlab = \"PC\", useRaster = TRUE, cex.lab = 1.6)\n",
    "axis(1, at = seq(0, 1, length.out = n), labels = seq(n), las = 1, cex.axis = 1)\n",
    "axis(2, at = seq(0, 1, length.out = n), labels = rev(vars), las = 2, cex.axis = 1)\n",
    "grid.text(\"(b)\", x = unit(0.38, \"npc\"), y = unit(1, \"npc\"),\n",
    "          just = c(\"left\", \"top\"))\n",
    "\n",
    "par(mar = c(5, 3, 2, 0) + 0.1)\n",
    "\n",
    "image(x = 1, y = seq(ll[1], ll[2], length.out = length(pal)),\n",
    "      z = matrix(seq(ll[1], ll[2], length.out = length(pal)), nrow = 1), \n",
    "      col = pal, xaxt = \"n\", xlab = NA, xaxs = \"r\", ylab = NA, las = 2,\n",
    "      bty = \"n\", useRaster = TRUE)\n",
    "\n",
    "dev.off()\n",
    "\"\"\"\n",
    "\n",
    "show_pdf(\n",
    "    \"http://127.0.0.1:8333/files/results/fig/pca.pdf\",\n",
    "    width = 900, \n",
    "    height = 500\n",
    ")"
   ]
  }
 ],
 "metadata": {
  "@webio": {
   "lastCommId": "6b62ee92e15b4c85b7fb79262f2510ed",
   "lastKernelId": "846b28fb-5508-435f-92cc-774b39257212"
  },
  "kernelspec": {
   "display_name": "Julia 1.1.0-bin atacama",
   "language": "julia",
   "name": "julia-1.1.0-atacama"
  },
  "language_info": {
   "file_extension": ".jl",
   "mimetype": "application/julia",
   "name": "julia",
   "version": "1.1.0"
  }
 },
 "nbformat": 4,
 "nbformat_minor": 2
}
