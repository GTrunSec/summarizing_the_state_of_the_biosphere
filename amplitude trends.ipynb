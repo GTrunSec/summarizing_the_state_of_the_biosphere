{
 "cells": [
  {
   "cell_type": "markdown",
   "metadata": {},
   "source": [
    "# amplitude trends"
   ]
  },
  {
   "cell_type": "code",
   "execution_count": 1,
   "metadata": {},
   "outputs": [
    {
     "data": {
      "text/html": [
       "<script>\n",
       "// Immediately-invoked-function-expression to avoid global variables.\n",
       "(function() {\n",
       "    var warning_div = document.getElementById(\"webio-warning-14254504493278934301\");\n",
       "    var hide = function () {\n",
       "        var script = document.getElementById(\"webio-setup-6145919900333710188\");\n",
       "        var parent = script && script.parentElement;\n",
       "        var grandparent = parent && parent.parentElement;\n",
       "        if (grandparent) {\n",
       "            grandparent.style.display = \"none\";\n",
       "        }\n",
       "        warning_div.style.display = \"none\";\n",
       "    };\n",
       "    if (typeof Jupyter !== \"undefined\") {\n",
       "        console.log(\"WebIO detected Jupyter notebook environment.\");\n",
       "        // Jupyter notebook.\n",
       "        var extensions = (\n",
       "            Jupyter\n",
       "            && Jupyter.notebook.config.data\n",
       "            && Jupyter.notebook.config.data.load_extensions\n",
       "        );\n",
       "        if (extensions && extensions[\"webio/main\"]) {\n",
       "            // Extension already loaded.\n",
       "            console.log(\"Jupyter WebIO nbextension detected; not loading ad-hoc.\");\n",
       "            hide();\n",
       "            return;\n",
       "        }\n",
       "        console.warn(\"Loading WebIO Jupyter extension on an ad-hoc basis. Consider enabling the WebIO nbextension for a stabler experience (this should happen automatically when building WebIO).\");\n",
       "        require([\"/user/gkraemer//assetserver/549eec07f928a744cd5cefcd9652eb9af414188d-dist/main.js\"], function (webIOModule) {\n",
       "            webIOModule.load_ipython_extension();\n",
       "        });\n",
       "        warning_div.innerHTML = \"<strong>Loading WebIO Jupyter extension on an ad-hoc basis. Consider enabling the WebIO nbextension for a stabler experience (this should happen automatically when building WebIO).</strong>\";\n",
       "    } else if (window.location.pathname.includes(\"/lab\")) {\n",
       "        // Guessing JupyterLa\n",
       "        console.log(\"Jupyter Lab detected; make sure the @webio/jupyter-lab-provider labextension is installed.\");\n",
       "        hide();\n",
       "        return;\n",
       "    }\n",
       "})();\n",
       "\n",
       "</script>\n",
       "<div\n",
       "    id=\"webio-warning-14254504493278934301\"\n",
       "    class=\"output_text output_stderr\"\n",
       "    style=\"padding: 1em; font-weight: bold;\"\n",
       ">\n",
       "    Unable to load WebIO. Please make sure WebIO works for your Jupyter client.\n",
       "    <!-- TODO: link to installation docs. -->\n",
       "</div>\n"
      ],
      "text/plain": [
       "HTML{String}(\"<script>\\n// Immediately-invoked-function-expression to avoid global variables.\\n(function() {\\n    var warning_div = document.getElementById(\\\"webio-warning-14254504493278934301\\\");\\n    var hide = function () {\\n        var script = document.getElementById(\\\"webio-setup-6145919900333710188\\\");\\n        var parent = script && script.parentElement;\\n        var grandparent = parent && parent.parentElement;\\n        if (grandparent) {\\n            grandparent.style.display = \\\"none\\\";\\n        }\\n        warning_div.style.display = \\\"none\\\";\\n    };\\n    if (typeof Jupyter !== \\\"undefined\\\") {\\n        console.log(\\\"WebIO detected Jupyter notebook environment.\\\");\\n        // Jupyter notebook.\\n        var extensions = (\\n            Jupyter\\n            && Jupyter.notebook.config.data\\n            && Jupyter.notebook.config.data.load_extensions\\n        );\\n        if (extensions && extensions[\\\"webio/main\\\"]) {\\n            // Extension already loaded.\\n            console.log(\\\"Jupyter WebIO nbextension detected; not loading ad-hoc.\\\");\\n            hide();\\n            return;\\n        }\\n        console.warn(\\\"Loading WebIO Jupyter extension on an ad-hoc basis. Consider enabling the WebIO nbextension for a stabler experience (this should happen automatically when building WebIO).\\\");\\n        require([\\\"/user/gkraemer//assetserver/549eec07f928a744cd5cefcd9652eb9af414188d-dist/main.js\\\"], function (webIOModule) {\\n            webIOModule.load_ipython_extension();\\n        });\\n        warning_div.innerHTML = \\\"<strong>Loading WebIO Jupyter extension on an ad-hoc basis. Consider enabling the WebIO nbextension for a stabler experience (this should happen automatically when building WebIO).</strong>\\\";\\n    } else if (window.location.pathname.includes(\\\"/lab\\\")) {\\n        // Guessing JupyterLa\\n        console.log(\\\"Jupyter Lab detected; make sure the @webio/jupyter-lab-provider labextension is installed.\\\");\\n        hide();\\n        return;\\n    }\\n})();\\n\\n</script>\\n<div\\n    id=\\\"webio-warning-14254504493278934301\\\"\\n    class=\\\"output_text output_stderr\\\"\\n    style=\\\"padding: 1em; font-weight: bold;\\\"\\n>\\n    Unable to load WebIO. Please make sure WebIO works for your Jupyter client.\\n    <!-- TODO: link to installation docs. -->\\n</div>\\n\")"
      ]
     },
     "metadata": {},
     "output_type": "display_data"
    },
    {
     "name": "stderr",
     "output_type": "stream",
     "text": [
      "┌ Warning: Package RCall does not have AxisArrays in its dependencies:\n",
      "│ - If you have RCall checked out for development and have\n",
      "│   added AxisArrays as a dependency but haven't updated your primary\n",
      "│   environment's manifest file, try `Pkg.resolve()`.\n",
      "│ - Otherwise you may need to report an issue with RCall\n",
      "│ Loading AxisArrays into RCall from project dependency, future warnings for RCall are suppressed.\n",
      "└ @ nothing nothing:840\n",
      "┌ Warning: RCall.jl: Loading required package: sp\n",
      "└ @ RCall /Net/Groups/BGI/people/gkraemer/.julia_atacama/packages/RCall/29zDq/src/io.jl:113\n",
      "┌ Warning: RCall.jl: Checking rgeos availability: TRUE\n",
      "└ @ RCall /Net/Groups/BGI/people/gkraemer/.julia_atacama/packages/RCall/29zDq/src/io.jl:113\n",
      "┌ Warning: RCall.jl: Loading required package: zoo\n",
      "│ \n",
      "│ Attaching package: 'zoo'\n",
      "│ \n",
      "│ The following objects are masked from 'package:base':\n",
      "│ \n",
      "│     as.Date, as.Date.numeric\n",
      "│ \n",
      "│ Loading required package: sandwich\n",
      "└ @ RCall /Net/Groups/BGI/people/gkraemer/.julia_atacama/packages/RCall/29zDq/src/io.jl:113\n",
      "┌ Warning: RCall.jl: -- Attaching packages --------------------------------------- tidyverse 1.2.1 --\n",
      "│ v tibble  2.1.3     v purrr   0.3.2\n",
      "│ v tidyr   1.0.0     v dplyr   0.8.3\n",
      "│ v readr   1.3.1     v stringr 1.4.0\n",
      "│ v tibble  2.1.3     v forcats 0.4.0\n",
      "│ -- Conflicts ------------------------------------------ tidyverse_conflicts() --\n",
      "│ x stringr::boundary() masks strucchange::boundary()\n",
      "│ x dplyr::combine()    masks gridExtra::combine()\n",
      "│ x tidyr::extract()    masks raster::extract()\n",
      "│ x dplyr::filter()     masks stats::filter()\n",
      "│ x dplyr::lag()        masks stats::lag()\n",
      "│ x purrr::map()        masks maps::map()\n",
      "│ x dplyr::select()     masks raster::select()\n",
      "└ @ RCall /Net/Groups/BGI/people/gkraemer/.julia_atacama/packages/RCall/29zDq/src/io.jl:113\n"
     ]
    },
    {
     "data": {
      "text/plain": [
       "PcaAxis             Axis with 12 elements: PCA_1 PCA_2 .. PCA_11 PCA_12 "
      ]
     },
     "execution_count": 1,
     "metadata": {},
     "output_type": "execute_result"
    }
   ],
   "source": [
    "include(\"/Net/Groups/BGI/people/gkraemer/progs/data_cube/julia/notebooks/stuff.jl\")"
   ]
  },
  {
   "cell_type": "code",
   "execution_count": 2,
   "metadata": {},
   "outputs": [
    {
     "data": {
      "text/plain": [
       "Memory mapped cube with the following dimensions\n",
       "PcaAxis             Axis with 12 elements: PCA_1 PCA_2 .. PCA_11 PCA_12 \n",
       "Lon                 Axis with 1440 Elements from -179.875 to 179.875\n",
       "Lat                 Axis with 720 Elements from 89.875 to -89.875\n",
       "Total size: 59.33 MB\n"
      ]
     },
     "execution_count": 2,
     "metadata": {},
     "output_type": "execute_result"
    }
   ],
   "source": [
    "pca_y_amplitude_trends = loadCube(joinpath(cubes_base_dir, \"pca_y_amplitude_trends\"))"
   ]
  },
  {
   "cell_type": "code",
   "execution_count": 22,
   "metadata": {},
   "outputs": [
    {
     "data": {
      "application/vnd.webio.node+json": {
       "children": [
        "pdf not found"
       ],
       "instanceArgs": {
        "namespace": "html",
        "tag": "object"
       },
       "nodeType": "DOM",
       "props": {
        "attributes": {
         "data": "https://localhost:8000/user/gkraemer/files/scratch/gkraemer/global_pca_j1/fig/amp_slope_pc123.pdf",
         "height": "1000",
         "type": "application/pdf",
         "width": "700"
        }
       },
       "type": "node"
      },
      "text/html": [
       "<div\n",
       "    class=\"webio-mountpoint\"\n",
       "    data-webio-mountpoint=\"1436329388050844942\"\n",
       ">\n",
       "    <script>\n",
       "    if (window.require && require.defined && require.defined(\"nbextensions/webio/main\")) {\n",
       "        console.log(\"Jupyter WebIO extension detected, not mounting.\");\n",
       "    } else if (window.WebIO) {\n",
       "        WebIO.mount(\n",
       "            document.querySelector('[data-webio-mountpoint=\"1436329388050844942\"]'),\n",
       "            {\"props\":{\"attributes\":{\"type\":\"application\\/pdf\",\"height\":\"1000\",\"data\":\"https:\\/\\/localhost:8000\\/user\\/gkraemer\\/files\\/scratch\\/gkraemer\\/global_pca_j1\\/fig\\/amp_slope_pc123.pdf\",\"width\":\"700\"}},\"nodeType\":\"DOM\",\"type\":\"node\",\"instanceArgs\":{\"namespace\":\"html\",\"tag\":\"object\"},\"children\":[\"pdf not found\"]},\n",
       "            window,\n",
       "        );\n",
       "    } else {\n",
       "        document\n",
       "            .querySelector('[data-webio-mountpoint=\"1436329388050844942\"]')\n",
       "            .innerHTML = '<strong>WebIO not detected.</strong>';\n",
       "    }\n",
       "    </script>\n",
       "</div>\n"
      ],
      "text/plain": [
       "(object { attributes=Dict(:type=>\"application/pdf\",:height=>\"1000\",:data=>\"https://localhost:8000/user/gkraemer/files/scratch/gkraemer/global_pca_j1/fig/amp_slope_pc123.pdf\",:width=>\"700\") }\n",
       "  \"pdf not found\")"
      ]
     },
     "execution_count": 22,
     "metadata": {
      "application/vnd.webio.node+json": {
       "kernelId": "63849151-c349-42d6-82d1-aa97dfcf31eb"
      }
     },
     "output_type": "execute_result"
    }
   ],
   "source": [
    "R\"\"\"\n",
    "#options(device = function(filename=getOption('rcalljl_filename'),...) png(filename, width = 700, height = 500, ...))\n",
    "data(coastsCoarse, package = \"rworldmap\")\n",
    "\n",
    "from_to <- 120:670\n",
    "elem_col = \"black\" # \"gray50\"\n",
    "\n",
    "pal1 <- rev(c(\"#543005\", \"#8C510A\", \"#BF812D\", \"#DFC27D\", \n",
    "              \"#F6E8C3\", \"#F5F5F5\", \"#C7EAE5\", \"#80CDC1\", \n",
    "              \"#35978F\", \"#01665E\", \"#003C30\"))\n",
    "pal1 <- colorRampPalette(colors = pal1)(100)\n",
    "\n",
    "pal2 <- rev(c(\"#67001f\", \"#b2182b\",\"#d6604d\", \"#f4a582\",\n",
    "              \"#fddbc7\", \"#f7f7f7\", \"#d1e5f0\",\"#92c5de\",\n",
    "              \"#4393c3\", \"#2166ac\",\"#053061\"))\n",
    "pal2 <- colorRampPalette(colors = pal2)(100)\n",
    "\n",
    "pal3 <- c(\"#7f3b08\",\"#b35806\",\"#e08214\",\"#fdb863\",\n",
    "          \"#fee0b6\",\"#f7f7f7\",\"#d8daeb\",\"#b2abd2\",\n",
    "          \"#8073ac\",\"#542788\",\"#2d004b\")\n",
    "pal3 <- colorRampPalette(colors = pal3)(100)\n",
    "\n",
    "data_pc1 <- $(pca_y_amplitude_trends[1, :, :] |> collect |> x -> x[:, end:-1:1] |> missing_to_nan .|> Float64)\n",
    "data_pc2 <- $(pca_y_amplitude_trends[2, :, :] |> collect |> x -> x[:, end:-1:1] |> missing_to_nan .|> Float64)\n",
    "data_pc3 <- $(pca_y_amplitude_trends[3, :, :] |> collect |> x -> x[:, end:-1:1] |> missing_to_nan .|> Float64)\n",
    "\n",
    "ex1 <- range(data_pc1, na.rm = TRUE)\n",
    "ex1 %<>% abs %>% max %>% {c(-., .) * 0.9}\n",
    "\n",
    "ex2 <- range(data_pc2, na.rm = TRUE)\n",
    "ex2 %<>% abs %>% max %>% {c(-., .) * 0.9}\n",
    "\n",
    "ex3 <- range(data_pc3, na.rm = TRUE)\n",
    "ex3 %<>% abs %>% max %>% {c(-., .) * 0.9}\n",
    "\n",
    "\n",
    "pdf($(joinpath(fig_path, \"amp_slope_pc123.pdf\")), width = 7, height = 7 * length(from_to) / 720 * 3/2)\n",
    "\n",
    "layout(t(t(1:3)), heights = c(1, 1, 1))\n",
    "par(mar = c(0,0,0,0))\n",
    "\n",
    "image(\n",
    "    seq(-180, 180, by = 0.25),\n",
    "    seq(-60, 77.5, by = 0.25),\n",
    "    data_pc1[,from_to], \n",
    "    zlim = ex1, \n",
    "    col = pal1,\n",
    "    bty = \"n\",\n",
    "    axes = FALSE,\n",
    "    useRaster = TRUE    \n",
    ")\n",
    "plot(coastsCoarse, add = TRUE)\n",
    "\n",
    "image(\n",
    "    seq(-180, 180, by = 0.25),\n",
    "    seq(-60, 77.5, by = 0.25),\n",
    "    data_pc2[,from_to], \n",
    "    zlim = ex2, \n",
    "    col = pal2,\n",
    "    bty = \"n\",\n",
    "    axes = FALSE,\n",
    "    useRaster = TRUE\n",
    ")\n",
    "plot(coastsCoarse, add = TRUE)\n",
    "\n",
    "image(\n",
    "    seq(-180, 180, by = 0.25),\n",
    "    seq(-60, 77.5, by = 0.25),\n",
    "    data_pc3[,from_to], \n",
    "    zlim = ex3, \n",
    "    col = pal3,\n",
    "    bty = \"n\",\n",
    "    axes = FALSE,\n",
    "    useRaster = TRUE\n",
    ")\n",
    "plot(coastsCoarse, add = TRUE)\n",
    "\n",
    "par(fig = c(0.1, 0.12, (2 + 0.01) / 3, (2 + 0.7) / 3), new = TRUE, xpd = NA)\n",
    "image(\n",
    "    0:1,\n",
    "    seq(from = ex1[1], to = ex1[2], length.out = 100), \n",
    "    t(seq(from = ex1[1], to = ex1[2], length.out = 100)), \n",
    "    zlim = ex1, col = pal1,\n",
    "    axes = FALSE, xlab = NA,\n",
    "    col.lab = elem_col,\n",
    "    useRaster = TRUE,\n",
    "    ylab = expression(Slope~group(\"[\", std ~ y^-1, \"]\"))\n",
    ")\n",
    "#box(col = elem_col)\n",
    "axis(2, las = 1, col = elem_col, col.axis = elem_col)\n",
    "\n",
    "par(fig = c(0.1, 0.12, (1 + 0.01) / 3, (1 + 0.7) / 3), new = TRUE)\n",
    "image(\n",
    "    0:1,\n",
    "    seq(from = ex2[1], to = ex2[2], length.out = 100), \n",
    "    t(seq(from = ex2[1], to = ex2[2], length.out = 100)), \n",
    "    zlim = ex2, col = pal2,\n",
    "    axes = FALSE, xlab = NA,\n",
    "    col.lab = elem_col,\n",
    "    useRaster = TRUE,\n",
    "    ylab = expression(Slope~group(\"[\", std ~ y^-1, \"]\"))\n",
    ")\n",
    "#box(col = elem_col)\n",
    "axis(2, las = 1, col = elem_col, col.axis = elem_col, xpd = NA)\n",
    "\n",
    "par(fig = c(0.1, 0.12, 0.01 / 3, 0.7 / 3), new = TRUE)\n",
    "image(\n",
    "    0:1,\n",
    "    seq(from = ex3[1], to = ex3[2], length.out = 100), \n",
    "    t(seq(from = ex3[1], to = ex3[2], length.out = 100)), \n",
    "    zlim = ex3, col = pal3,\n",
    "    axes = FALSE, xlab = NA,\n",
    "    col.lab = elem_col,\n",
    "    useRaster = TRUE,\n",
    "    ylab = expression(Slope~group(\"[\", std ~ y^-1, \"]\"))\n",
    ")\n",
    "#box(col = elem_col)\n",
    "axis(2, las = 1, col = elem_col, col.axis = elem_col, xpd = NA)\n",
    "\n",
    "\n",
    "grid.text(\"(a)\", 0, 1,   just = c(0, 1))\n",
    "grid.text(\"(b)\", 0, 2/3, just = c(0, 1))\n",
    "grid.text(\"(c)\", 0, 1/3, just = c(0, 1))\n",
    "\n",
    "dev.off()\n",
    "\"\"\"\n",
    "\n",
    "show_pdf(\n",
    "    \"https://localhost:8000/user/gkraemer/files/scratch/gkraemer/global_pca_j1/fig/amp_slope_pc123.pdf\",\n",
    "    width = 700,\n",
    "    height = 1000\n",
    ")"
   ]
  },
  {
   "cell_type": "code",
   "execution_count": null,
   "metadata": {},
   "outputs": [],
   "source": []
  },
  {
   "cell_type": "code",
   "execution_count": null,
   "metadata": {},
   "outputs": [],
   "source": []
  },
  {
   "cell_type": "code",
   "execution_count": null,
   "metadata": {},
   "outputs": [],
   "source": []
  },
  {
   "cell_type": "code",
   "execution_count": null,
   "metadata": {},
   "outputs": [],
   "source": []
  },
  {
   "cell_type": "code",
   "execution_count": null,
   "metadata": {},
   "outputs": [],
   "source": []
  },
  {
   "cell_type": "code",
   "execution_count": null,
   "metadata": {},
   "outputs": [],
   "source": []
  },
  {
   "cell_type": "code",
   "execution_count": null,
   "metadata": {},
   "outputs": [],
   "source": []
  },
  {
   "cell_type": "code",
   "execution_count": null,
   "metadata": {},
   "outputs": [],
   "source": []
  },
  {
   "cell_type": "code",
   "execution_count": null,
   "metadata": {},
   "outputs": [],
   "source": []
  }
 ],
 "metadata": {
  "@webio": {
   "lastCommId": "7f105b89de9240fbb976761492a868ff",
   "lastKernelId": "63849151-c349-42d6-82d1-aa97dfcf31eb"
  },
  "kernelspec": {
   "display_name": "Julia 1.1.0-bin atacama",
   "language": "julia",
   "name": "julia-1.1.0-atacama"
  },
  "language_info": {
   "file_extension": ".jl",
   "mimetype": "application/julia",
   "name": "julia",
   "version": "1.1.0"
  }
 },
 "nbformat": 4,
 "nbformat_minor": 2
}
